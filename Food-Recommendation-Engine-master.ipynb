{
 "cells": [
  {
   "cell_type": "code",
   "execution_count": 1,
   "metadata": {},
   "outputs": [
    {
     "name": "stderr",
     "output_type": "stream",
     "text": [
      "C:\\Users\\refic\\anaconda3\\lib\\site-packages\\ipykernel_launcher.py:3: FutureWarning: pandas.util.testing is deprecated. Use the functions in the public API at pandas.testing instead.\n",
      "  This is separate from the ipykernel package so we can avoid doing imports until\n"
     ]
    }
   ],
   "source": [
    "import numpy as np\n",
    "import pandas as pd\n",
    "import pandas.util.testing as tm\n",
    "import matplotlib.pyplot as plt\n",
    "import seaborn as sns\n",
    "import statsmodels.api as sm\n",
    "%matplotlib inline\n"
   ]
  },
  {
   "cell_type": "code",
   "execution_count": 2,
   "metadata": {},
   "outputs": [],
   "source": [
    "df=pd.read_csv('mini.txt',low_memory=False,sep=\",\")"
   ]
  },
  {
   "cell_type": "code",
   "execution_count": 3,
   "metadata": {},
   "outputs": [
    {
     "data": {
      "text/html": [
       "<div>\n",
       "<style scoped>\n",
       "    .dataframe tbody tr th:only-of-type {\n",
       "        vertical-align: middle;\n",
       "    }\n",
       "\n",
       "    .dataframe tbody tr th {\n",
       "        vertical-align: top;\n",
       "    }\n",
       "\n",
       "    .dataframe thead th {\n",
       "        text-align: right;\n",
       "    }\n",
       "</style>\n",
       "<table border=\"1\" class=\"dataframe\">\n",
       "  <thead>\n",
       "    <tr style=\"text-align: right;\">\n",
       "      <th></th>\n",
       "      <th>index</th>\n",
       "      <th>brand</th>\n",
       "      <th>categories</th>\n",
       "      <th>ingredients</th>\n",
       "      <th>manufacturer</th>\n",
       "      <th>title</th>\n",
       "      <th>Unnamed: 6</th>\n",
       "      <th>Unnamed: 7</th>\n",
       "      <th>Unnamed: 8</th>\n",
       "      <th>Unnamed: 9</th>\n",
       "      <th>...</th>\n",
       "      <th>Unnamed: 20</th>\n",
       "      <th>Unnamed: 21</th>\n",
       "      <th>Unnamed: 22</th>\n",
       "      <th>Unnamed: 23</th>\n",
       "      <th>Unnamed: 24</th>\n",
       "      <th>Unnamed: 25</th>\n",
       "      <th>Unnamed: 26</th>\n",
       "      <th>Unnamed: 27</th>\n",
       "      <th>Unnamed: 28</th>\n",
       "      <th>Unnamed: 29</th>\n",
       "    </tr>\n",
       "  </thead>\n",
       "  <tbody>\n",
       "    <tr>\n",
       "      <th>0</th>\n",
       "      <td>0</td>\n",
       "      <td>Simon Fischer</td>\n",
       "      <td>Grocery &amp; Gourmet Food,Food,Grocery</td>\n",
       "      <td>Dried Prunes,Water,Corn Syrup,Sugar,Pectin.</td>\n",
       "      <td>Sokol And Company</td>\n",
       "      <td>Simon Fischer Fruit Bttr Prune Lekvar</td>\n",
       "      <td>NaN</td>\n",
       "      <td>NaN</td>\n",
       "      <td>NaN</td>\n",
       "      <td>NaN</td>\n",
       "      <td>...</td>\n",
       "      <td>NaN</td>\n",
       "      <td>NaN</td>\n",
       "      <td>NaN</td>\n",
       "      <td>NaN</td>\n",
       "      <td>NaN</td>\n",
       "      <td>NaN</td>\n",
       "      <td>NaN</td>\n",
       "      <td>NaN</td>\n",
       "      <td>NaN</td>\n",
       "      <td>NaN</td>\n",
       "    </tr>\n",
       "    <tr>\n",
       "      <th>1</th>\n",
       "      <td>1</td>\n",
       "      <td>McCormick</td>\n",
       "      <td>Grocery &amp; Gourmet Food,Food,Grocery</td>\n",
       "      <td>Salt,Sugar,Molasses (Refinery Syrup, Molasses,...</td>\n",
       "      <td>McCormick &amp; Co, Inc</td>\n",
       "      <td>McCORMICK GRILL MATES MOLASSES BACON SEASONING...</td>\n",
       "      <td>NaN</td>\n",
       "      <td>NaN</td>\n",
       "      <td>NaN</td>\n",
       "      <td>NaN</td>\n",
       "      <td>...</td>\n",
       "      <td>NaN</td>\n",
       "      <td>NaN</td>\n",
       "      <td>NaN</td>\n",
       "      <td>NaN</td>\n",
       "      <td>NaN</td>\n",
       "      <td>NaN</td>\n",
       "      <td>NaN</td>\n",
       "      <td>NaN</td>\n",
       "      <td>NaN</td>\n",
       "      <td>NaN</td>\n",
       "    </tr>\n",
       "    <tr>\n",
       "      <th>2</th>\n",
       "      <td>2</td>\n",
       "      <td>Jolly Time</td>\n",
       "      <td>Grocery &amp; Gourmet Food,Grocery</td>\n",
       "      <td>Salt, Yellow 5 Lake, Tricalcium Phosphate And ...</td>\n",
       "      <td>Reese's</td>\n",
       "      <td>Jolly Time Popcorn</td>\n",
       "      <td>NaN</td>\n",
       "      <td>NaN</td>\n",
       "      <td>NaN</td>\n",
       "      <td>NaN</td>\n",
       "      <td>...</td>\n",
       "      <td>NaN</td>\n",
       "      <td>NaN</td>\n",
       "      <td>NaN</td>\n",
       "      <td>NaN</td>\n",
       "      <td>NaN</td>\n",
       "      <td>NaN</td>\n",
       "      <td>NaN</td>\n",
       "      <td>NaN</td>\n",
       "      <td>NaN</td>\n",
       "      <td>NaN</td>\n",
       "    </tr>\n",
       "    <tr>\n",
       "      <th>3</th>\n",
       "      <td>3</td>\n",
       "      <td>Ziyad</td>\n",
       "      <td>Grocery &amp; Gourmet Food,grocery</td>\n",
       "      <td>Mechanically hulled seasame seeds.Allergy Info...</td>\n",
       "      <td>Ziyad</td>\n",
       "      <td>Ziyad Tahini Sesame Sauce</td>\n",
       "      <td>NaN</td>\n",
       "      <td>NaN</td>\n",
       "      <td>NaN</td>\n",
       "      <td>NaN</td>\n",
       "      <td>...</td>\n",
       "      <td>NaN</td>\n",
       "      <td>NaN</td>\n",
       "      <td>NaN</td>\n",
       "      <td>NaN</td>\n",
       "      <td>NaN</td>\n",
       "      <td>NaN</td>\n",
       "      <td>NaN</td>\n",
       "      <td>NaN</td>\n",
       "      <td>NaN</td>\n",
       "      <td>NaN</td>\n",
       "    </tr>\n",
       "    <tr>\n",
       "      <th>4</th>\n",
       "      <td>4</td>\n",
       "      <td>Fla-Vor-Ice</td>\n",
       "      <td>Grocery &amp; Gourmet Food,grocery</td>\n",
       "      <td>FALSE</td>\n",
       "      <td>Fla-Vor-Ice</td>\n",
       "      <td>Fla-Vor-Ice Plus Giant Pops</td>\n",
       "      <td>NaN</td>\n",
       "      <td>NaN</td>\n",
       "      <td>NaN</td>\n",
       "      <td>NaN</td>\n",
       "      <td>...</td>\n",
       "      <td>NaN</td>\n",
       "      <td>NaN</td>\n",
       "      <td>NaN</td>\n",
       "      <td>NaN</td>\n",
       "      <td>NaN</td>\n",
       "      <td>NaN</td>\n",
       "      <td>NaN</td>\n",
       "      <td>NaN</td>\n",
       "      <td>NaN</td>\n",
       "      <td>NaN</td>\n",
       "    </tr>\n",
       "  </tbody>\n",
       "</table>\n",
       "<p>5 rows × 30 columns</p>\n",
       "</div>"
      ],
      "text/plain": [
       "   index          brand                           categories  \\\n",
       "0      0  Simon Fischer  Grocery & Gourmet Food,Food,Grocery   \n",
       "1      1      McCormick  Grocery & Gourmet Food,Food,Grocery   \n",
       "2      2     Jolly Time       Grocery & Gourmet Food,Grocery   \n",
       "3      3          Ziyad       Grocery & Gourmet Food,grocery   \n",
       "4      4    Fla-Vor-Ice       Grocery & Gourmet Food,grocery   \n",
       "\n",
       "                                         ingredients         manufacturer  \\\n",
       "0        Dried Prunes,Water,Corn Syrup,Sugar,Pectin.    Sokol And Company   \n",
       "1  Salt,Sugar,Molasses (Refinery Syrup, Molasses,...  McCormick & Co, Inc   \n",
       "2  Salt, Yellow 5 Lake, Tricalcium Phosphate And ...              Reese's   \n",
       "3  Mechanically hulled seasame seeds.Allergy Info...                Ziyad   \n",
       "4                                              FALSE          Fla-Vor-Ice   \n",
       "\n",
       "                                               title Unnamed: 6 Unnamed: 7  \\\n",
       "0              Simon Fischer Fruit Bttr Prune Lekvar        NaN        NaN   \n",
       "1  McCORMICK GRILL MATES MOLASSES BACON SEASONING...        NaN        NaN   \n",
       "2                                 Jolly Time Popcorn        NaN        NaN   \n",
       "3                          Ziyad Tahini Sesame Sauce        NaN        NaN   \n",
       "4                        Fla-Vor-Ice Plus Giant Pops        NaN        NaN   \n",
       "\n",
       "  Unnamed: 8 Unnamed: 9  ... Unnamed: 20 Unnamed: 21 Unnamed: 22 Unnamed: 23  \\\n",
       "0        NaN        NaN  ...         NaN         NaN         NaN         NaN   \n",
       "1        NaN        NaN  ...         NaN         NaN         NaN         NaN   \n",
       "2        NaN        NaN  ...         NaN         NaN         NaN         NaN   \n",
       "3        NaN        NaN  ...         NaN         NaN         NaN         NaN   \n",
       "4        NaN        NaN  ...         NaN         NaN         NaN         NaN   \n",
       "\n",
       "  Unnamed: 24 Unnamed: 25 Unnamed: 26 Unnamed: 27 Unnamed: 28 Unnamed: 29  \n",
       "0         NaN         NaN         NaN         NaN         NaN         NaN  \n",
       "1         NaN         NaN         NaN         NaN         NaN         NaN  \n",
       "2         NaN         NaN         NaN         NaN         NaN         NaN  \n",
       "3         NaN         NaN         NaN         NaN         NaN         NaN  \n",
       "4         NaN         NaN         NaN         NaN         NaN         NaN  \n",
       "\n",
       "[5 rows x 30 columns]"
      ]
     },
     "execution_count": 3,
     "metadata": {},
     "output_type": "execute_result"
    }
   ],
   "source": [
    "df.head()"
   ]
  },
  {
   "cell_type": "code",
   "execution_count": 8,
   "metadata": {},
   "outputs": [],
   "source": [
    "df=df[['brand','categories','ingredients','manufacturer','title']]"
   ]
  },
  {
   "cell_type": "code",
   "execution_count": 9,
   "metadata": {},
   "outputs": [
    {
     "data": {
      "text/html": [
       "<div>\n",
       "<style scoped>\n",
       "    .dataframe tbody tr th:only-of-type {\n",
       "        vertical-align: middle;\n",
       "    }\n",
       "\n",
       "    .dataframe tbody tr th {\n",
       "        vertical-align: top;\n",
       "    }\n",
       "\n",
       "    .dataframe thead th {\n",
       "        text-align: right;\n",
       "    }\n",
       "</style>\n",
       "<table border=\"1\" class=\"dataframe\">\n",
       "  <thead>\n",
       "    <tr style=\"text-align: right;\">\n",
       "      <th></th>\n",
       "      <th>brand</th>\n",
       "      <th>categories</th>\n",
       "      <th>ingredients</th>\n",
       "      <th>manufacturer</th>\n",
       "      <th>title</th>\n",
       "    </tr>\n",
       "  </thead>\n",
       "  <tbody>\n",
       "    <tr>\n",
       "      <th>0</th>\n",
       "      <td>Simon Fischer</td>\n",
       "      <td>Grocery &amp; Gourmet Food,Food,Grocery</td>\n",
       "      <td>Dried Prunes,Water,Corn Syrup,Sugar,Pectin.</td>\n",
       "      <td>Sokol And Company</td>\n",
       "      <td>Simon Fischer Fruit Bttr Prune Lekvar</td>\n",
       "    </tr>\n",
       "    <tr>\n",
       "      <th>1</th>\n",
       "      <td>McCormick</td>\n",
       "      <td>Grocery &amp; Gourmet Food,Food,Grocery</td>\n",
       "      <td>Salt,Sugar,Molasses (Refinery Syrup, Molasses,...</td>\n",
       "      <td>McCormick &amp; Co, Inc</td>\n",
       "      <td>McCORMICK GRILL MATES MOLASSES BACON SEASONING...</td>\n",
       "    </tr>\n",
       "    <tr>\n",
       "      <th>2</th>\n",
       "      <td>Jolly Time</td>\n",
       "      <td>Grocery &amp; Gourmet Food,Grocery</td>\n",
       "      <td>Salt, Yellow 5 Lake, Tricalcium Phosphate And ...</td>\n",
       "      <td>Reese's</td>\n",
       "      <td>Jolly Time Popcorn</td>\n",
       "    </tr>\n",
       "    <tr>\n",
       "      <th>3</th>\n",
       "      <td>Ziyad</td>\n",
       "      <td>Grocery &amp; Gourmet Food,grocery</td>\n",
       "      <td>Mechanically hulled seasame seeds.Allergy Info...</td>\n",
       "      <td>Ziyad</td>\n",
       "      <td>Ziyad Tahini Sesame Sauce</td>\n",
       "    </tr>\n",
       "    <tr>\n",
       "      <th>4</th>\n",
       "      <td>Fla-Vor-Ice</td>\n",
       "      <td>Grocery &amp; Gourmet Food,grocery</td>\n",
       "      <td>FALSE</td>\n",
       "      <td>Fla-Vor-Ice</td>\n",
       "      <td>Fla-Vor-Ice Plus Giant Pops</td>\n",
       "    </tr>\n",
       "    <tr>\n",
       "      <th>...</th>\n",
       "      <td>...</td>\n",
       "      <td>...</td>\n",
       "      <td>...</td>\n",
       "      <td>...</td>\n",
       "      <td>...</td>\n",
       "    </tr>\n",
       "    <tr>\n",
       "      <th>9995</th>\n",
       "      <td>Wright's</td>\n",
       "      <td>Barbecue,Grocery &amp; Gourmet Food,Sauces, Gravie...</td>\n",
       "      <td>water,natural hickory smoke flavor.</td>\n",
       "      <td>Wright's</td>\n",
       "      <td>Wright's Liquid Smoke - 3.5 Oz</td>\n",
       "    </tr>\n",
       "    <tr>\n",
       "      <th>9996</th>\n",
       "      <td>Eden Foods</td>\n",
       "      <td>Food,Snacks, Cookies &amp; Chips,Nuts &amp; Trail Mixe...</td>\n",
       "      <td>Organic Dry Roasted Almonds,Organic Tamari Soy...</td>\n",
       "      <td>Eden Foods</td>\n",
       "      <td>Eden Foods Organic Pocket Snacks - Tamari Almo...</td>\n",
       "    </tr>\n",
       "    <tr>\n",
       "      <th>9997</th>\n",
       "      <td>Happy Belly</td>\n",
       "      <td>Cashews,Grocery &amp; Gourmet Food,Cooking &amp; Bakin...</td>\n",
       "      <td>Cashews, Vegetable Oil (May Contain One Or Mor...</td>\n",
       "      <td>AFS Brands LLC</td>\n",
       "      <td>Happy Belly Fancy Whole Cashews, 44 Ounce</td>\n",
       "    </tr>\n",
       "    <tr>\n",
       "      <th>9998</th>\n",
       "      <td>Quaker</td>\n",
       "      <td>Food,Snacks, Cookies &amp; Chips,Rice Cakes,Chips,...</td>\n",
       "      <td>Whole Grain Brown Rice Flour,Degerminated Mill...</td>\n",
       "      <td>Quaker Oats</td>\n",
       "      <td>QuakerÂ® PoppedÂ® Cheddar Cheese Rice Crisps 6...</td>\n",
       "    </tr>\n",
       "    <tr>\n",
       "      <th>9999</th>\n",
       "      <td>Weetabix</td>\n",
       "      <td>Grocery,Pantry,Granola,Food,Breakfast &amp; Cereal...</td>\n",
       "      <td>Non-GMO Whole Grain Wheat,Non-GMO Whole Grain ...</td>\n",
       "      <td>Alpen</td>\n",
       "      <td>Alpen All Natural Muesli Original</td>\n",
       "    </tr>\n",
       "  </tbody>\n",
       "</table>\n",
       "<p>10000 rows × 5 columns</p>\n",
       "</div>"
      ],
      "text/plain": [
       "              brand                                         categories  \\\n",
       "0     Simon Fischer                Grocery & Gourmet Food,Food,Grocery   \n",
       "1         McCormick                Grocery & Gourmet Food,Food,Grocery   \n",
       "2        Jolly Time                     Grocery & Gourmet Food,Grocery   \n",
       "3             Ziyad                     Grocery & Gourmet Food,grocery   \n",
       "4       Fla-Vor-Ice                     Grocery & Gourmet Food,grocery   \n",
       "...             ...                                                ...   \n",
       "9995       Wright's  Barbecue,Grocery & Gourmet Food,Sauces, Gravie...   \n",
       "9996     Eden Foods  Food,Snacks, Cookies & Chips,Nuts & Trail Mixe...   \n",
       "9997    Happy Belly  Cashews,Grocery & Gourmet Food,Cooking & Bakin...   \n",
       "9998         Quaker  Food,Snacks, Cookies & Chips,Rice Cakes,Chips,...   \n",
       "9999       Weetabix  Grocery,Pantry,Granola,Food,Breakfast & Cereal...   \n",
       "\n",
       "                                            ingredients         manufacturer  \\\n",
       "0           Dried Prunes,Water,Corn Syrup,Sugar,Pectin.    Sokol And Company   \n",
       "1     Salt,Sugar,Molasses (Refinery Syrup, Molasses,...  McCormick & Co, Inc   \n",
       "2     Salt, Yellow 5 Lake, Tricalcium Phosphate And ...              Reese's   \n",
       "3     Mechanically hulled seasame seeds.Allergy Info...                Ziyad   \n",
       "4                                                 FALSE          Fla-Vor-Ice   \n",
       "...                                                 ...                  ...   \n",
       "9995                water,natural hickory smoke flavor.             Wright's   \n",
       "9996  Organic Dry Roasted Almonds,Organic Tamari Soy...           Eden Foods   \n",
       "9997  Cashews, Vegetable Oil (May Contain One Or Mor...       AFS Brands LLC   \n",
       "9998  Whole Grain Brown Rice Flour,Degerminated Mill...          Quaker Oats   \n",
       "9999  Non-GMO Whole Grain Wheat,Non-GMO Whole Grain ...                Alpen   \n",
       "\n",
       "                                                  title  \n",
       "0                 Simon Fischer Fruit Bttr Prune Lekvar  \n",
       "1     McCORMICK GRILL MATES MOLASSES BACON SEASONING...  \n",
       "2                                    Jolly Time Popcorn  \n",
       "3                             Ziyad Tahini Sesame Sauce  \n",
       "4                           Fla-Vor-Ice Plus Giant Pops  \n",
       "...                                                 ...  \n",
       "9995                     Wright's Liquid Smoke - 3.5 Oz  \n",
       "9996  Eden Foods Organic Pocket Snacks - Tamari Almo...  \n",
       "9997          Happy Belly Fancy Whole Cashews, 44 Ounce  \n",
       "9998  QuakerÂ® PoppedÂ® Cheddar Cheese Rice Crisps 6...  \n",
       "9999                  Alpen All Natural Muesli Original  \n",
       "\n",
       "[10000 rows x 5 columns]"
      ]
     },
     "execution_count": 9,
     "metadata": {},
     "output_type": "execute_result"
    }
   ],
   "source": [
    "df\n"
   ]
  },
  {
   "cell_type": "markdown",
   "metadata": {},
   "source": [
    "Data Cleaning\n"
   ]
  },
  {
   "cell_type": "code",
   "execution_count": 109,
   "metadata": {},
   "outputs": [
    {
     "data": {
      "text/plain": [
       "13"
      ]
     },
     "execution_count": 109,
     "metadata": {},
     "output_type": "execute_result"
    }
   ],
   "source": [
    "df.duplicated().sum()"
   ]
  },
  {
   "cell_type": "code",
   "execution_count": 110,
   "metadata": {},
   "outputs": [
    {
     "name": "stderr",
     "output_type": "stream",
     "text": [
      "C:\\Users\\refic\\anaconda3\\lib\\site-packages\\ipykernel_launcher.py:1: SettingWithCopyWarning: \n",
      "A value is trying to be set on a copy of a slice from a DataFrame\n",
      "\n",
      "See the caveats in the documentation: https://pandas.pydata.org/pandas-docs/stable/user_guide/indexing.html#returning-a-view-versus-a-copy\n",
      "  \"\"\"Entry point for launching an IPython kernel.\n"
     ]
    },
    {
     "data": {
      "text/plain": [
       "0"
      ]
     },
     "execution_count": 110,
     "metadata": {},
     "output_type": "execute_result"
    }
   ],
   "source": [
    "df.drop_duplicates(inplace=True)\n",
    "df.duplicated().sum()"
   ]
  },
  {
   "cell_type": "code",
   "execution_count": 111,
   "metadata": {},
   "outputs": [
    {
     "data": {
      "text/plain": [
       "brand            883\n",
       "categories         0\n",
       "ingredients       28\n",
       "manufacturer    2673\n",
       "title              4\n",
       "dtype: int64"
      ]
     },
     "execution_count": 111,
     "metadata": {},
     "output_type": "execute_result"
    }
   ],
   "source": [
    "df.isnull().sum()\n"
   ]
  },
  {
   "cell_type": "markdown",
   "metadata": {},
   "source": [
    "Replacing all the null values with blank space"
   ]
  },
  {
   "cell_type": "code",
   "execution_count": 113,
   "metadata": {},
   "outputs": [
    {
     "data": {
      "text/plain": [
       "brand           0\n",
       "categories      0\n",
       "ingredients     0\n",
       "manufacturer    0\n",
       "title           0\n",
       "dtype: int64"
      ]
     },
     "execution_count": 113,
     "metadata": {},
     "output_type": "execute_result"
    }
   ],
   "source": [
    "df.fillna(value='',inplace=True)\n",
    "df.isnull().sum()"
   ]
  },
  {
   "cell_type": "code",
   "execution_count": 115,
   "metadata": {},
   "outputs": [
    {
     "data": {
      "text/html": [
       "<div>\n",
       "<style scoped>\n",
       "    .dataframe tbody tr th:only-of-type {\n",
       "        vertical-align: middle;\n",
       "    }\n",
       "\n",
       "    .dataframe tbody tr th {\n",
       "        vertical-align: top;\n",
       "    }\n",
       "\n",
       "    .dataframe thead th {\n",
       "        text-align: right;\n",
       "    }\n",
       "</style>\n",
       "<table border=\"1\" class=\"dataframe\">\n",
       "  <thead>\n",
       "    <tr style=\"text-align: right;\">\n",
       "      <th></th>\n",
       "      <th>brand</th>\n",
       "      <th>categories</th>\n",
       "      <th>ingredients</th>\n",
       "      <th>manufacturer</th>\n",
       "      <th>title</th>\n",
       "    </tr>\n",
       "  </thead>\n",
       "  <tbody>\n",
       "    <tr>\n",
       "      <th>count</th>\n",
       "      <td>9987</td>\n",
       "      <td>9987</td>\n",
       "      <td>9987</td>\n",
       "      <td>9987</td>\n",
       "      <td>9987</td>\n",
       "    </tr>\n",
       "    <tr>\n",
       "      <th>unique</th>\n",
       "      <td>3144</td>\n",
       "      <td>4285</td>\n",
       "      <td>9291</td>\n",
       "      <td>2970</td>\n",
       "      <td>9912</td>\n",
       "    </tr>\n",
       "    <tr>\n",
       "      <th>top</th>\n",
       "      <td></td>\n",
       "      <td>Grocery</td>\n",
       "      <td></td>\n",
       "      <td></td>\n",
       "      <td>Yost Gourmet Pops</td>\n",
       "    </tr>\n",
       "    <tr>\n",
       "      <th>freq</th>\n",
       "      <td>883</td>\n",
       "      <td>699</td>\n",
       "      <td>28</td>\n",
       "      <td>2673</td>\n",
       "      <td>6</td>\n",
       "    </tr>\n",
       "  </tbody>\n",
       "</table>\n",
       "</div>"
      ],
      "text/plain": [
       "       brand categories ingredients manufacturer              title\n",
       "count   9987       9987        9987         9987               9987\n",
       "unique  3144       4285        9291         2970               9912\n",
       "top             Grocery                           Yost Gourmet Pops\n",
       "freq     883        699          28         2673                  6"
      ]
     },
     "execution_count": 115,
     "metadata": {},
     "output_type": "execute_result"
    }
   ],
   "source": [
    "df.describe()"
   ]
  },
  {
   "cell_type": "code",
   "execution_count": 116,
   "metadata": {},
   "outputs": [
    {
     "name": "stderr",
     "output_type": "stream",
     "text": [
      "C:\\Users\\refic\\anaconda3\\lib\\site-packages\\ipykernel_launcher.py:1: SettingWithCopyWarning: \n",
      "A value is trying to be set on a copy of a slice from a DataFrame.\n",
      "Try using .loc[row_indexer,col_indexer] = value instead\n",
      "\n",
      "See the caveats in the documentation: https://pandas.pydata.org/pandas-docs/stable/user_guide/indexing.html#returning-a-view-versus-a-copy\n",
      "  \"\"\"Entry point for launching an IPython kernel.\n"
     ]
    }
   ],
   "source": [
    "df['added']=df['brand']+\" \"+df['manufacturer']+\" \"+df['ingredients']"
   ]
  },
  {
   "cell_type": "code",
   "execution_count": 117,
   "metadata": {},
   "outputs": [
    {
     "data": {
      "text/html": [
       "<div>\n",
       "<style scoped>\n",
       "    .dataframe tbody tr th:only-of-type {\n",
       "        vertical-align: middle;\n",
       "    }\n",
       "\n",
       "    .dataframe tbody tr th {\n",
       "        vertical-align: top;\n",
       "    }\n",
       "\n",
       "    .dataframe thead th {\n",
       "        text-align: right;\n",
       "    }\n",
       "</style>\n",
       "<table border=\"1\" class=\"dataframe\">\n",
       "  <thead>\n",
       "    <tr style=\"text-align: right;\">\n",
       "      <th></th>\n",
       "      <th>brand</th>\n",
       "      <th>categories</th>\n",
       "      <th>ingredients</th>\n",
       "      <th>manufacturer</th>\n",
       "      <th>title</th>\n",
       "      <th>added</th>\n",
       "    </tr>\n",
       "  </thead>\n",
       "  <tbody>\n",
       "    <tr>\n",
       "      <th>0</th>\n",
       "      <td>Simon Fischer</td>\n",
       "      <td>Grocery &amp; Gourmet Food,Food,Grocery</td>\n",
       "      <td>Dried Prunes,Water,Corn Syrup,Sugar,Pectin.</td>\n",
       "      <td>Sokol And Company</td>\n",
       "      <td>Simon Fischer Fruit Bttr Prune Lekvar</td>\n",
       "      <td>Simon Fischer Sokol And Company Dried Prunes,W...</td>\n",
       "    </tr>\n",
       "    <tr>\n",
       "      <th>1</th>\n",
       "      <td>McCormick</td>\n",
       "      <td>Grocery &amp; Gourmet Food,Food,Grocery</td>\n",
       "      <td>Salt,Sugar,Molasses (Refinery Syrup, Molasses,...</td>\n",
       "      <td>McCormick &amp; Co, Inc</td>\n",
       "      <td>McCORMICK GRILL MATES MOLASSES BACON SEASONING...</td>\n",
       "      <td>McCormick McCormick &amp; Co, Inc Salt,Sugar,Molas...</td>\n",
       "    </tr>\n",
       "    <tr>\n",
       "      <th>2</th>\n",
       "      <td>Jolly Time</td>\n",
       "      <td>Grocery &amp; Gourmet Food,Grocery</td>\n",
       "      <td>Salt, Yellow 5 Lake, Tricalcium Phosphate And ...</td>\n",
       "      <td>Reese's</td>\n",
       "      <td>Jolly Time Popcorn</td>\n",
       "      <td>Jolly Time Reese's Salt, Yellow 5 Lake, Trical...</td>\n",
       "    </tr>\n",
       "    <tr>\n",
       "      <th>3</th>\n",
       "      <td>Ziyad</td>\n",
       "      <td>Grocery &amp; Gourmet Food,grocery</td>\n",
       "      <td>Mechanically hulled seasame seeds.Allergy Info...</td>\n",
       "      <td>Ziyad</td>\n",
       "      <td>Ziyad Tahini Sesame Sauce</td>\n",
       "      <td>Ziyad Ziyad Mechanically hulled seasame seeds....</td>\n",
       "    </tr>\n",
       "    <tr>\n",
       "      <th>4</th>\n",
       "      <td>Fla-Vor-Ice</td>\n",
       "      <td>Grocery &amp; Gourmet Food,grocery</td>\n",
       "      <td>FALSE</td>\n",
       "      <td>Fla-Vor-Ice</td>\n",
       "      <td>Fla-Vor-Ice Plus Giant Pops</td>\n",
       "      <td>Fla-Vor-Ice Fla-Vor-Ice FALSE</td>\n",
       "    </tr>\n",
       "  </tbody>\n",
       "</table>\n",
       "</div>"
      ],
      "text/plain": [
       "           brand                           categories  \\\n",
       "0  Simon Fischer  Grocery & Gourmet Food,Food,Grocery   \n",
       "1      McCormick  Grocery & Gourmet Food,Food,Grocery   \n",
       "2     Jolly Time       Grocery & Gourmet Food,Grocery   \n",
       "3          Ziyad       Grocery & Gourmet Food,grocery   \n",
       "4    Fla-Vor-Ice       Grocery & Gourmet Food,grocery   \n",
       "\n",
       "                                         ingredients         manufacturer  \\\n",
       "0        Dried Prunes,Water,Corn Syrup,Sugar,Pectin.    Sokol And Company   \n",
       "1  Salt,Sugar,Molasses (Refinery Syrup, Molasses,...  McCormick & Co, Inc   \n",
       "2  Salt, Yellow 5 Lake, Tricalcium Phosphate And ...              Reese's   \n",
       "3  Mechanically hulled seasame seeds.Allergy Info...                Ziyad   \n",
       "4                                              FALSE          Fla-Vor-Ice   \n",
       "\n",
       "                                               title  \\\n",
       "0              Simon Fischer Fruit Bttr Prune Lekvar   \n",
       "1  McCORMICK GRILL MATES MOLASSES BACON SEASONING...   \n",
       "2                                 Jolly Time Popcorn   \n",
       "3                          Ziyad Tahini Sesame Sauce   \n",
       "4                        Fla-Vor-Ice Plus Giant Pops   \n",
       "\n",
       "                                               added  \n",
       "0  Simon Fischer Sokol And Company Dried Prunes,W...  \n",
       "1  McCormick McCormick & Co, Inc Salt,Sugar,Molas...  \n",
       "2  Jolly Time Reese's Salt, Yellow 5 Lake, Trical...  \n",
       "3  Ziyad Ziyad Mechanically hulled seasame seeds....  \n",
       "4                      Fla-Vor-Ice Fla-Vor-Ice FALSE  "
      ]
     },
     "execution_count": 117,
     "metadata": {},
     "output_type": "execute_result"
    }
   ],
   "source": [
    "df.head()"
   ]
  },
  {
   "cell_type": "markdown",
   "metadata": {},
   "source": [
    "Vectorization"
   ]
  },
  {
   "cell_type": "code",
   "execution_count": 118,
   "metadata": {},
   "outputs": [],
   "source": [
    "from sklearn.feature_extraction.text import CountVectorizer\n",
    "cv=CountVectorizer()"
   ]
  },
  {
   "cell_type": "code",
   "execution_count": 124,
   "metadata": {},
   "outputs": [],
   "source": [
    "Countmatrix=cv.fit_transform(df['added'])"
   ]
  },
  {
   "cell_type": "code",
   "execution_count": 126,
   "metadata": {},
   "outputs": [
    {
     "data": {
      "text/plain": [
       "array(<9987x10998 sparse matrix of type '<class 'numpy.int64'>'\n",
       "\twith 270806 stored elements in Compressed Sparse Row format>,\n",
       "      dtype=object)"
      ]
     },
     "execution_count": 126,
     "metadata": {},
     "output_type": "execute_result"
    }
   ],
   "source": [
    "np.array(Countmatrix)"
   ]
  },
  {
   "cell_type": "code",
   "execution_count": 129,
   "metadata": {},
   "outputs": [
    {
     "name": "stdout",
     "output_type": "stream",
     "text": [
      "  (0, 9040)\t1\n",
      "  (0, 4220)\t1\n",
      "  (0, 9176)\t1\n",
      "  (0, 881)\t1\n",
      "  (0, 2614)\t1\n",
      "  (0, 3389)\t1\n",
      "  (0, 8146)\t1\n",
      "  (0, 10570)\t1\n",
      "  (0, 2756)\t1\n",
      "  (0, 9681)\t1\n",
      "  (0, 9546)\t1\n",
      "  (0, 7606)\t1\n",
      "  (1, 881)\t2\n",
      "  (1, 10570)\t1\n",
      "  (1, 2756)\t1\n",
      "  (1, 9681)\t1\n",
      "  (1, 9546)\t1\n",
      "  (1, 6486)\t2\n",
      "  (1, 2505)\t1\n",
      "  (1, 5335)\t1\n",
      "  (1, 8699)\t2\n",
      "  (1, 6761)\t2\n",
      "  (1, 8366)\t1\n",
      "  (1, 2008)\t1\n",
      "  (1, 2572)\t1\n",
      "  :\t:\n",
      "  (9986, 1248)\t1\n",
      "  (9986, 7303)\t1\n",
      "  (9986, 4434)\t1\n",
      "  (9986, 4239)\t1\n",
      "  (9986, 7087)\t1\n",
      "  (9986, 5012)\t1\n",
      "  (9986, 1324)\t1\n",
      "  (9986, 8540)\t1\n",
      "  (9986, 4803)\t2\n",
      "  (9986, 3832)\t1\n",
      "  (9986, 8022)\t1\n",
      "  (9986, 8264)\t1\n",
      "  (9986, 5027)\t2\n",
      "  (9986, 2512)\t1\n",
      "  (9986, 9094)\t1\n",
      "  (9986, 2806)\t1\n",
      "  (9986, 10106)\t2\n",
      "  (9986, 9026)\t1\n",
      "  (9986, 8299)\t3\n",
      "  (9986, 10598)\t1\n",
      "  (9986, 1392)\t1\n",
      "  (9986, 8298)\t3\n",
      "  (9986, 806)\t1\n",
      "  (9986, 3206)\t1\n",
      "  (9986, 9009)\t1\n"
     ]
    }
   ],
   "source": [
    "print(Countmatrix)"
   ]
  },
  {
   "cell_type": "code",
   "execution_count": 130,
   "metadata": {},
   "outputs": [
    {
     "data": {
      "text/plain": [
       "(9987, 10998)"
      ]
     },
     "execution_count": 130,
     "metadata": {},
     "output_type": "execute_result"
    }
   ],
   "source": [
    "Countmatrix.shape"
   ]
  },
  {
   "cell_type": "markdown",
   "metadata": {},
   "source": [
    "Cosine Similarity"
   ]
  },
  {
   "cell_type": "code",
   "execution_count": 131,
   "metadata": {},
   "outputs": [],
   "source": [
    "from sklearn.metrics.pairwise import cosine_similarity\n",
    "cos_similarity= cosine_similarity(Countmatrix)"
   ]
  },
  {
   "cell_type": "code",
   "execution_count": 133,
   "metadata": {},
   "outputs": [
    {
     "name": "stdout",
     "output_type": "stream",
     "text": [
      "Enter the title of the product you like: Simon Fischer Fruit Bttr Prune Lekvar\n"
     ]
    }
   ],
   "source": [
    "inp=input('Enter the title of the product you like: ')"
   ]
  },
  {
   "cell_type": "code",
   "execution_count": 134,
   "metadata": {},
   "outputs": [],
   "source": [
    "def search_index(title):\n",
    "    return df[df['title'] == title].index"
   ]
  },
  {
   "cell_type": "code",
   "execution_count": 136,
   "metadata": {},
   "outputs": [],
   "source": [
    "index_item=search_index(inp)"
   ]
  },
  {
   "cell_type": "code",
   "execution_count": 137,
   "metadata": {},
   "outputs": [
    {
     "data": {
      "text/plain": [
       "Int64Index([0], dtype='int64')"
      ]
     },
     "execution_count": 137,
     "metadata": {},
     "output_type": "execute_result"
    }
   ],
   "source": [
    "index_item"
   ]
  },
  {
   "cell_type": "code",
   "execution_count": 139,
   "metadata": {},
   "outputs": [],
   "source": [
    "similar_items = list(enumerate(cos_similarity[int(index_item[0])]))"
   ]
  },
  {
   "cell_type": "code",
   "execution_count": 140,
   "metadata": {},
   "outputs": [],
   "source": [
    "sorted_similar_items=sorted(similar_items,key=lambda x:x[1],reverse=True)"
   ]
  },
  {
   "cell_type": "code",
   "execution_count": 141,
   "metadata": {},
   "outputs": [],
   "source": [
    "def search_title(index):\n",
    "    return df['title'][index]"
   ]
  },
  {
   "cell_type": "markdown",
   "metadata": {},
   "source": [
    "Displaying title those are similar or the customer might like"
   ]
  },
  {
   "cell_type": "code",
   "execution_count": 142,
   "metadata": {},
   "outputs": [
    {
     "name": "stdout",
     "output_type": "stream",
     "text": [
      "Simon Fischer Fruit Bttr Prune Lekvar\n",
      "Solo Cake _ Pastry Filling Raspberry, 12.0 OZ\n",
      "Marshmallow Fluff - 16 oz plastic tub\n",
      "Carrs Whole Wheat Crackers\n",
      "Herdez Salsa Casera, 7.0 OZ\n",
      "Goya Whole Kernel Golden Corn, 15.25 Oz\n",
      "Kikkoman Hon Tsuyu Soup Base for Noodle 17z x 2 bottles\n",
      "CVS Gold Emblem California Pistachios Roasted Salted With Sea Salt\n",
      "Cape Cod174 Kettle Cooked Potato Chips - Original 8oz\n",
      "Jumex Peach Nectar 33.8 Oz\n",
      "Paskesz Marshmallows, 8.0 OZ\n",
      "Pasta Roni Olive Oil _ Italian Herb Flavor Natures Way, 4.60 oz\n",
      "Seagram's Raspberry Ginger Ale, 2 L\n",
      "Choice Organic Premium Japanese Green Tea\n",
      "Cracker Jack Original Singles, 1-Ounce Boxes (Pack of 25)\n",
      "Wheat Thins Ranch Crackers\n",
      "Rum and Brandy Mincemeat Container\n",
      "Country Rich Homestyle Syrup, 8 oz\n",
      "Mcvities Medley Hobnobs Double Chocolate 6pk\n",
      "Gia Russa Orzo, 12 oz\n",
      "2 Boxes Orion Choco Pie with Marshmallow Cream 24 Packs\n",
      "Pillsbury Creamy Supreme Dark Chocolate Frosting, 16 Oz\n",
      "Goya Caramel Flan, 5.5 oz\n",
      "Rc Cola - 2 Liter\n",
      "Rc174 Cola - 20 Fl Oz\n",
      "Jansal Valley Carrot Powder\n",
      "All Free Clear, Liquid Laundry Detergent, 2X Ultra Concentrated, 300 fl oz (2.34 gal) 8.87 lt\n",
      "DICKINSON PRESERVE STRWBRY, 10 OZ PACK OF 3\n",
      "McCormick Pure Vanilla Extract\n",
      "Sour Patch Watermelon Soft Chewy Candy - 30oz\n",
      "Jelly Belly Harry Potter Chocolate Frog\n",
      "Hersheys Milk Chocolate Kisses\n",
      "CVS Gold Emblem Fancy Whole Cashews 18.25 OZ\n",
      "Reeses Peanut Butter Cup Miniatures\n",
      "Goya Rice _ Red Beans Seasoned, 8.0 OZ\n",
      "Sun-Maid Raisins\n",
      "Agv Pickled Bamboo Shoot Solid Pack 120g/4.2oz\n",
      "Black Label Organic Roasted Seaweed\n",
      "Jelly Belly Beanboozled Jelly Beans  Mystery Bean Dispenser 3.5 oz (4th edition)\n",
      "Fiber One 90 Calorie Chocolate Chewy Bars\n",
      "Carr's Table Water Crackers with Toasted Sesame Seeds, 0.0 BAR\n",
      "Rancho174 Sabac Zinfandel - 750ml Bottle\n",
      "Better Than Bouillon - Ham Base - 8 oz\n",
      "Cracker Jack The Original Caramel Coated Popcorn & Peanuts, 4.25 Oz\n",
      "Sour Patch Fruits\n",
      "A California Delicious Fruit Abounds Gourmet Fruit Gift Basket\n",
      "Rice Krispies Treats - 11.6oz - Kellogg's\n",
      "Maple Grove FarmsÂ® Sugar Free Low Calorie Maple Syrup 12 fl. oz. Squeeze Bottle\n",
      "Aw Root Beer 2 L\n",
      "Aw Root Beer 8 Fl Oz 6 Pk\n",
      "A&W Root Beer\n"
     ]
    }
   ],
   "source": [
    "i=0\n",
    "for item in sorted_similar_items:\n",
    "    print(search_title(item[0]))\n",
    "    i=i+1\n",
    "    if(i>50):     \n",
    "        break"
   ]
  },
  {
   "cell_type": "code",
   "execution_count": null,
   "metadata": {},
   "outputs": [],
   "source": []
  }
 ],
 "metadata": {
  "kernelspec": {
   "display_name": "Python 3",
   "language": "python",
   "name": "python3"
  },
  "language_info": {
   "codemirror_mode": {
    "name": "ipython",
    "version": 3
   },
   "file_extension": ".py",
   "mimetype": "text/x-python",
   "name": "python",
   "nbconvert_exporter": "python",
   "pygments_lexer": "ipython3",
   "version": "3.7.6"
  }
 },
 "nbformat": 4,
 "nbformat_minor": 4
}
